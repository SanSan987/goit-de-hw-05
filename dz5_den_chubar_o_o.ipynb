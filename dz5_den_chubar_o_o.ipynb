{
  "nbformat": 4,
  "nbformat_minor": 0,
  "metadata": {
    "colab": {
      "provenance": [],
      "authorship_tag": "ABX9TyN7aOZrX85TFLUySWTHI2+T",
      "include_colab_link": true
    },
    "kernelspec": {
      "name": "python3",
      "display_name": "Python 3"
    },
    "language_info": {
      "name": "python"
    }
  },
  "cells": [
    {
      "cell_type": "markdown",
      "metadata": {
        "id": "view-in-github",
        "colab_type": "text"
      },
      "source": [
        "<a href=\"https://colab.research.google.com/github/SanSan987/goit-de-hw-05/blob/main/dz5_den_chubar_o_o.ipynb\" target=\"_parent\"><img src=\"https://colab.research.google.com/assets/colab-badge.svg\" alt=\"Open In Colab\"/></a>"
      ]
    },
    {
      "cell_type": "code",
      "execution_count": null,
      "metadata": {
        "colab": {
          "base_uri": "https://localhost:8080/"
        },
        "id": "DJeiLtqgQyd-",
        "outputId": "92766cf5-60d4-435e-d2a3-933e5ea31467"
      },
      "outputs": [
        {
          "output_type": "stream",
          "name": "stdout",
          "text": [
            "--2025-03-19 22:31:29--  https://archive.apache.org/dist/kafka/3.6.0/kafka_2.13-3.6.0.tgz\n",
            "Resolving archive.apache.org (archive.apache.org)... 65.108.204.189, 2a01:4f9:1a:a084::2\n",
            "Connecting to archive.apache.org (archive.apache.org)|65.108.204.189|:443... connected.\n",
            "HTTP request sent, awaiting response... 200 OK\n",
            "Length: 113257079 (108M) [application/x-gzip]\n",
            "Saving to: ‘kafka_2.13-3.6.0.tgz’\n",
            "\n",
            "kafka_2.13-3.6.0.tg 100%[===================>] 108.01M  21.6MB/s    in 5.8s    \n",
            "\n",
            "2025-03-19 22:31:36 (18.7 MB/s) - ‘kafka_2.13-3.6.0.tgz’ saved [113257079/113257079]\n",
            "\n"
          ]
        }
      ],
      "source": [
        "# Встановлення Java та Kafka\n",
        "!apt-get install openjdk-11-jdk-headless -qq > /dev/null\n",
        "!wget https://archive.apache.org/dist/kafka/3.6.0/kafka_2.13-3.6.0.tgz\n",
        "!tar -xzf kafka_2.13-3.6.0.tgz\n"
      ]
    },
    {
      "cell_type": "code",
      "source": [
        "# Запуск Kafka-сервера\n",
        "import os\n",
        "# Запуск Zookeeper\n",
        "os.system(\"nohup kafka_2.13-3.6.0/bin/zookeeper-server-start.sh kafka_2.13-3.6.0/config/zookeeper.properties &\")\n",
        "# Запуск Kafka-сервер\n",
        "os.system(\"nohup kafka_2.13-3.6.0/bin/kafka-server-start.sh kafka_2.13-3.6.0/config/server.properties &\")\n"
      ],
      "metadata": {
        "colab": {
          "base_uri": "https://localhost:8080/"
        },
        "id": "RH7t4z6DRBjH",
        "outputId": "1b60ae1b-3861-4aaf-a8ec-ec39fdf3157c"
      },
      "execution_count": null,
      "outputs": [
        {
          "output_type": "execute_result",
          "data": {
            "text/plain": [
              "0"
            ]
          },
          "metadata": {},
          "execution_count": 2
        }
      ]
    },
    {
      "cell_type": "code",
      "source": [
        "# Створення топіків \"chub\"\n",
        "!kafka_2.13-3.6.0/bin/kafka-topics.sh --create --topic chub_building_sensors --bootstrap-server localhost:9092\n",
        "!kafka_2.13-3.6.0/bin/kafka-topics.sh --create --topic chub_temperature_alerts --bootstrap-server localhost:9092\n",
        "!kafka_2.13-3.6.0/bin/kafka-topics.sh --create --topic chub_humidity_alerts --bootstrap-server localhost:9092\n"
      ],
      "metadata": {
        "colab": {
          "base_uri": "https://localhost:8080/"
        },
        "id": "Oy3o_iHTTFPv",
        "outputId": "3996a934-e8d0-4eec-e5c0-792d2119f11a"
      },
      "execution_count": null,
      "outputs": [
        {
          "output_type": "stream",
          "name": "stdout",
          "text": [
            "WARNING: Due to limitations in metric names, topics with a period ('.') or underscore ('_') could collide. To avoid issues it is best to use either, but not both.\n",
            "Created topic chub_building_sensors.\n",
            "WARNING: Due to limitations in metric names, topics with a period ('.') or underscore ('_') could collide. To avoid issues it is best to use either, but not both.\n",
            "Created topic chub_temperature_alerts.\n",
            "WARNING: Due to limitations in metric names, topics with a period ('.') or underscore ('_') could collide. To avoid issues it is best to use either, but not both.\n",
            "Created topic chub_humidity_alerts.\n"
          ]
        }
      ]
    },
    {
      "cell_type": "code",
      "source": [
        "# Встановлення бібліотеки Kafka Python\n",
        "!pip install kafka-python\n"
      ],
      "metadata": {
        "colab": {
          "base_uri": "https://localhost:8080/"
        },
        "id": "ncbI0aNZTm0A",
        "outputId": "2f7a159f-8aee-4f41-ff98-7d09563e33a6"
      },
      "execution_count": null,
      "outputs": [
        {
          "output_type": "stream",
          "name": "stdout",
          "text": [
            "Collecting kafka-python\n",
            "  Downloading kafka_python-2.1.2-py2.py3-none-any.whl.metadata (9.1 kB)\n",
            "Downloading kafka_python-2.1.2-py2.py3-none-any.whl (274 kB)\n",
            "\u001b[2K   \u001b[90m━━━━━━━━━━━━━━━━━━━━━━━━━━━━━━━━━━━━━━━━\u001b[0m \u001b[32m274.5/274.5 kB\u001b[0m \u001b[31m4.4 MB/s\u001b[0m eta \u001b[36m0:00:00\u001b[0m\n",
            "\u001b[?25hInstalling collected packages: kafka-python\n",
            "Successfully installed kafka-python-2.1.2\n"
          ]
        }
      ]
    },
    {
      "cell_type": "code",
      "source": [
        "# Список створених топіків\n",
        "from kafka.admin import KafkaAdminClient\n",
        "\n",
        "admin_client = KafkaAdminClient(bootstrap_servers=['localhost:9092'])\n",
        "print([topic for topic in admin_client.list_topics() if \"chub\" in topic])\n"
      ],
      "metadata": {
        "colab": {
          "base_uri": "https://localhost:8080/"
        },
        "id": "Ip862gMYbpVs",
        "outputId": "d012aac6-3056-430e-d1fc-52b650a049a9"
      },
      "execution_count": null,
      "outputs": [
        {
          "output_type": "stream",
          "name": "stdout",
          "text": [
            "['chub_building_sensors', 'chub_humidity_alerts', 'chub_temperature_alerts']\n"
          ]
        }
      ]
    },
    {
      "cell_type": "code",
      "source": [
        "# Скрипт для відправки даних до топіків, датчик 1\n",
        "from kafka import KafkaProducer\n",
        "import json, random, time\n",
        "from datetime import datetime\n",
        "\n",
        "producer = KafkaProducer(bootstrap_servers='localhost:9092',\n",
        "                         value_serializer=lambda v: json.dumps(v).encode('utf-8'))\n",
        "\n",
        "sensor_id = random.randint(1000, 9999)  # ID датчика постійний протягом одного запуску\n",
        "\n",
        "for _ in range(10):\n",
        "    data = {\n",
        "        \"sensor_id\": sensor_id,\n",
        "        \"timestamp\": datetime.now().strftime(\"%Y-%m-%d %H:%M:%S\"),\n",
        "        \"temperature\": random.randint(25, 45),\n",
        "        \"humidity\": random.randint(15, 85)\n",
        "    }\n",
        "    print(data)\n",
        "    producer.send(\"chub_building_sensors\", data)\n",
        "    time.sleep(2)\n",
        "\n"
      ],
      "metadata": {
        "colab": {
          "base_uri": "https://localhost:8080/"
        },
        "id": "x9Yx_eVITuI5",
        "outputId": "a2303e52-1307-41bf-b34e-873aeac74482"
      },
      "execution_count": null,
      "outputs": [
        {
          "output_type": "stream",
          "name": "stdout",
          "text": [
            "{'sensor_id': 8887, 'timestamp': '2025-03-19 22:35:55', 'temperature': 28, 'humidity': 53}\n",
            "{'sensor_id': 8887, 'timestamp': '2025-03-19 22:35:57', 'temperature': 36, 'humidity': 83}\n",
            "{'sensor_id': 8887, 'timestamp': '2025-03-19 22:35:59', 'temperature': 32, 'humidity': 24}\n",
            "{'sensor_id': 8887, 'timestamp': '2025-03-19 22:36:01', 'temperature': 31, 'humidity': 33}\n",
            "{'sensor_id': 8887, 'timestamp': '2025-03-19 22:36:03', 'temperature': 28, 'humidity': 52}\n",
            "{'sensor_id': 8887, 'timestamp': '2025-03-19 22:36:05', 'temperature': 25, 'humidity': 53}\n",
            "{'sensor_id': 8887, 'timestamp': '2025-03-19 22:36:07', 'temperature': 40, 'humidity': 61}\n",
            "{'sensor_id': 8887, 'timestamp': '2025-03-19 22:36:09', 'temperature': 29, 'humidity': 17}\n",
            "{'sensor_id': 8887, 'timestamp': '2025-03-19 22:36:11', 'temperature': 43, 'humidity': 59}\n",
            "{'sensor_id': 8887, 'timestamp': '2025-03-19 22:36:13', 'temperature': 29, 'humidity': 39}\n"
          ]
        }
      ]
    },
    {
      "cell_type": "code",
      "source": [
        "# Скрипт для відправки даних до топіків, датчик 2\n",
        "from kafka import KafkaProducer\n",
        "import json, random, time\n",
        "from datetime import datetime\n",
        "\n",
        "producer = KafkaProducer(bootstrap_servers='localhost:9092',\n",
        "                         value_serializer=lambda v: json.dumps(v).encode('utf-8'))\n",
        "\n",
        "sensor_id = random.randint(1000, 9999)  # ID датчика постійний протягом одного запуску\n",
        "\n",
        "for _ in range(10):\n",
        "    data = {\n",
        "        \"sensor_id\": sensor_id,\n",
        "        \"timestamp\": datetime.now().strftime(\"%Y-%m-%d %H:%M:%S\"),\n",
        "        \"temperature\": random.randint(25, 45),\n",
        "        \"humidity\": random.randint(15, 85)\n",
        "    }\n",
        "    print(data)\n",
        "    producer.send(\"chub_building_sensors\", data)\n",
        "    time.sleep(2)\n"
      ],
      "metadata": {
        "colab": {
          "base_uri": "https://localhost:8080/"
        },
        "id": "KlmzoGzShc3-",
        "outputId": "0bb595ca-5933-43a1-d92c-a46a09135200"
      },
      "execution_count": null,
      "outputs": [
        {
          "output_type": "stream",
          "name": "stdout",
          "text": [
            "{'sensor_id': 1735, 'timestamp': '2025-03-19 22:36:15', 'temperature': 28, 'humidity': 39}\n",
            "{'sensor_id': 1735, 'timestamp': '2025-03-19 22:36:17', 'temperature': 44, 'humidity': 71}\n",
            "{'sensor_id': 1735, 'timestamp': '2025-03-19 22:36:19', 'temperature': 30, 'humidity': 24}\n",
            "{'sensor_id': 1735, 'timestamp': '2025-03-19 22:36:21', 'temperature': 36, 'humidity': 48}\n",
            "{'sensor_id': 1735, 'timestamp': '2025-03-19 22:36:23', 'temperature': 45, 'humidity': 24}\n",
            "{'sensor_id': 1735, 'timestamp': '2025-03-19 22:36:25', 'temperature': 45, 'humidity': 54}\n",
            "{'sensor_id': 1735, 'timestamp': '2025-03-19 22:36:27', 'temperature': 36, 'humidity': 59}\n",
            "{'sensor_id': 1735, 'timestamp': '2025-03-19 22:36:29', 'temperature': 37, 'humidity': 18}\n",
            "{'sensor_id': 1735, 'timestamp': '2025-03-19 22:36:31', 'temperature': 25, 'humidity': 29}\n",
            "{'sensor_id': 1735, 'timestamp': '2025-03-19 22:36:33', 'temperature': 38, 'humidity': 49}\n"
          ]
        }
      ]
    },
    {
      "cell_type": "code",
      "source": [
        "# Скрипт для обробки даних (отримання та фільтрація сповіщень)\n",
        "from kafka import KafkaConsumer, KafkaProducer\n",
        "import json\n",
        "\n",
        "consumer = KafkaConsumer(\n",
        "    \"chub_building_sensors\",\n",
        "    bootstrap_servers='localhost:9092',\n",
        "    auto_offset_reset='earliest',\n",
        "    value_deserializer=lambda m: json.loads(m.decode('utf-8'))\n",
        ")\n",
        "\n",
        "producer = KafkaProducer(bootstrap_servers='localhost:9092',\n",
        "                         value_serializer=lambda v: json.dumps(v).encode('utf-8'))\n",
        "\n",
        "for message in consumer:\n",
        "    data = message.value\n",
        "    print(f\"Отримано дані: {data}\")\n",
        "\n",
        "    temp = data[\"temperature\"]\n",
        "    hum = data[\"humidity\"]\n",
        "\n",
        "    # Фільтрація\n",
        "    if temp > 40:\n",
        "        alert = {\n",
        "            \"sensor_id\": data[\"sensor_id\"],\n",
        "            \"timestamp\": data[\"timestamp\"],\n",
        "            \"temperature\": temp,\n",
        "            \"message\": f\"🔥 Висока температура: {temp}°C!\"\n",
        "        }\n",
        "        producer.send(\"chub_temperature_alerts\", alert)\n",
        "        print(\"Відправлено температурний алерт:\", alert)\n",
        "\n",
        "    if hum > 80 or hum < 20:\n",
        "        alert = {\n",
        "            \"sensor_id\": data[\"sensor_id\"],\n",
        "            \"timestamp\": data[\"timestamp\"],\n",
        "            \"humidity\": hum,\n",
        "            \"message\": f\"💧 Критична вологість: {hum}%!\"\n",
        "        }\n",
        "        producer.send(\"chub_humidity_alerts\", alert)\n",
        "        print(\"Відправлено алерт вологості:\", alert)\n",
        "\n"
      ],
      "metadata": {
        "colab": {
          "base_uri": "https://localhost:8080/",
          "height": 843
        },
        "id": "ougE6UDLUVE6",
        "outputId": "7e0c4138-d761-4eac-aba5-997c2a4488de"
      },
      "execution_count": null,
      "outputs": [
        {
          "output_type": "stream",
          "name": "stderr",
          "text": [
            "WARNING:kafka.coordinator.consumer:group_id is None: disabling auto-commit.\n"
          ]
        },
        {
          "output_type": "stream",
          "name": "stdout",
          "text": [
            "Отримано дані: {'sensor_id': 8887, 'timestamp': '2025-03-19 22:35:55', 'temperature': 28, 'humidity': 53}\n",
            "Отримано дані: {'sensor_id': 8887, 'timestamp': '2025-03-19 22:35:57', 'temperature': 36, 'humidity': 83}\n",
            "Відправлено алерт вологості: {'sensor_id': 8887, 'timestamp': '2025-03-19 22:35:57', 'humidity': 83, 'message': '💧 Критична вологість: 83%!'}\n",
            "Отримано дані: {'sensor_id': 8887, 'timestamp': '2025-03-19 22:35:59', 'temperature': 32, 'humidity': 24}\n",
            "Отримано дані: {'sensor_id': 8887, 'timestamp': '2025-03-19 22:36:01', 'temperature': 31, 'humidity': 33}\n",
            "Отримано дані: {'sensor_id': 8887, 'timestamp': '2025-03-19 22:36:03', 'temperature': 28, 'humidity': 52}\n",
            "Отримано дані: {'sensor_id': 8887, 'timestamp': '2025-03-19 22:36:05', 'temperature': 25, 'humidity': 53}\n",
            "Отримано дані: {'sensor_id': 8887, 'timestamp': '2025-03-19 22:36:07', 'temperature': 40, 'humidity': 61}\n",
            "Отримано дані: {'sensor_id': 8887, 'timestamp': '2025-03-19 22:36:09', 'temperature': 29, 'humidity': 17}\n",
            "Відправлено алерт вологості: {'sensor_id': 8887, 'timestamp': '2025-03-19 22:36:09', 'humidity': 17, 'message': '💧 Критична вологість: 17%!'}\n",
            "Отримано дані: {'sensor_id': 8887, 'timestamp': '2025-03-19 22:36:11', 'temperature': 43, 'humidity': 59}\n",
            "Відправлено температурний алерт: {'sensor_id': 8887, 'timestamp': '2025-03-19 22:36:11', 'temperature': 43, 'message': '🔥 Висока температура: 43°C!'}\n",
            "Отримано дані: {'sensor_id': 8887, 'timestamp': '2025-03-19 22:36:13', 'temperature': 29, 'humidity': 39}\n",
            "Отримано дані: {'sensor_id': 1735, 'timestamp': '2025-03-19 22:36:15', 'temperature': 28, 'humidity': 39}\n",
            "Отримано дані: {'sensor_id': 1735, 'timestamp': '2025-03-19 22:36:17', 'temperature': 44, 'humidity': 71}\n",
            "Відправлено температурний алерт: {'sensor_id': 1735, 'timestamp': '2025-03-19 22:36:17', 'temperature': 44, 'message': '🔥 Висока температура: 44°C!'}\n",
            "Отримано дані: {'sensor_id': 1735, 'timestamp': '2025-03-19 22:36:19', 'temperature': 30, 'humidity': 24}\n",
            "Отримано дані: {'sensor_id': 1735, 'timestamp': '2025-03-19 22:36:21', 'temperature': 36, 'humidity': 48}\n",
            "Отримано дані: {'sensor_id': 1735, 'timestamp': '2025-03-19 22:36:23', 'temperature': 45, 'humidity': 24}\n",
            "Відправлено температурний алерт: {'sensor_id': 1735, 'timestamp': '2025-03-19 22:36:23', 'temperature': 45, 'message': '🔥 Висока температура: 45°C!'}\n",
            "Отримано дані: {'sensor_id': 1735, 'timestamp': '2025-03-19 22:36:25', 'temperature': 45, 'humidity': 54}\n",
            "Відправлено температурний алерт: {'sensor_id': 1735, 'timestamp': '2025-03-19 22:36:25', 'temperature': 45, 'message': '🔥 Висока температура: 45°C!'}\n",
            "Отримано дані: {'sensor_id': 1735, 'timestamp': '2025-03-19 22:36:27', 'temperature': 36, 'humidity': 59}\n",
            "Отримано дані: {'sensor_id': 1735, 'timestamp': '2025-03-19 22:36:29', 'temperature': 37, 'humidity': 18}\n",
            "Відправлено алерт вологості: {'sensor_id': 1735, 'timestamp': '2025-03-19 22:36:29', 'humidity': 18, 'message': '💧 Критична вологість: 18%!'}\n",
            "Отримано дані: {'sensor_id': 1735, 'timestamp': '2025-03-19 22:36:31', 'temperature': 25, 'humidity': 29}\n",
            "Отримано дані: {'sensor_id': 1735, 'timestamp': '2025-03-19 22:36:33', 'temperature': 38, 'humidity': 49}\n"
          ]
        },
        {
          "output_type": "error",
          "ename": "KeyboardInterrupt",
          "evalue": "",
          "traceback": [
            "\u001b[0;31m---------------------------------------------------------------------------\u001b[0m",
            "\u001b[0;31mKeyboardInterrupt\u001b[0m                         Traceback (most recent call last)",
            "\u001b[0;32m<ipython-input-8-895b672b1480>\u001b[0m in \u001b[0;36m<cell line: 0>\u001b[0;34m()\u001b[0m\n\u001b[1;32m     13\u001b[0m                          value_serializer=lambda v: json.dumps(v).encode('utf-8'))\n\u001b[1;32m     14\u001b[0m \u001b[0;34m\u001b[0m\u001b[0m\n\u001b[0;32m---> 15\u001b[0;31m \u001b[0;32mfor\u001b[0m \u001b[0mmessage\u001b[0m \u001b[0;32min\u001b[0m \u001b[0mconsumer\u001b[0m\u001b[0;34m:\u001b[0m\u001b[0;34m\u001b[0m\u001b[0;34m\u001b[0m\u001b[0m\n\u001b[0m\u001b[1;32m     16\u001b[0m     \u001b[0mdata\u001b[0m \u001b[0;34m=\u001b[0m \u001b[0mmessage\u001b[0m\u001b[0;34m.\u001b[0m\u001b[0mvalue\u001b[0m\u001b[0;34m\u001b[0m\u001b[0;34m\u001b[0m\u001b[0m\n\u001b[1;32m     17\u001b[0m     \u001b[0mprint\u001b[0m\u001b[0;34m(\u001b[0m\u001b[0;34mf\"Отримано дані: {data}\"\u001b[0m\u001b[0;34m)\u001b[0m\u001b[0;34m\u001b[0m\u001b[0;34m\u001b[0m\u001b[0m\n",
            "\u001b[0;32m/usr/local/lib/python3.11/dist-packages/kafka/consumer/group.py\u001b[0m in \u001b[0;36m__next__\u001b[0;34m(self)\u001b[0m\n\u001b[1;32m   1166\u001b[0m                 \u001b[0mself\u001b[0m\u001b[0;34m.\u001b[0m\u001b[0m_iterator\u001b[0m \u001b[0;34m=\u001b[0m \u001b[0mself\u001b[0m\u001b[0;34m.\u001b[0m\u001b[0m_message_generator_v2\u001b[0m\u001b[0;34m(\u001b[0m\u001b[0;34m)\u001b[0m\u001b[0;34m\u001b[0m\u001b[0;34m\u001b[0m\u001b[0m\n\u001b[1;32m   1167\u001b[0m             \u001b[0;32mtry\u001b[0m\u001b[0;34m:\u001b[0m\u001b[0;34m\u001b[0m\u001b[0;34m\u001b[0m\u001b[0m\n\u001b[0;32m-> 1168\u001b[0;31m                 \u001b[0;32mreturn\u001b[0m \u001b[0mnext\u001b[0m\u001b[0;34m(\u001b[0m\u001b[0mself\u001b[0m\u001b[0;34m.\u001b[0m\u001b[0m_iterator\u001b[0m\u001b[0;34m)\u001b[0m\u001b[0;34m\u001b[0m\u001b[0;34m\u001b[0m\u001b[0m\n\u001b[0m\u001b[1;32m   1169\u001b[0m             \u001b[0;32mexcept\u001b[0m \u001b[0mStopIteration\u001b[0m\u001b[0;34m:\u001b[0m\u001b[0;34m\u001b[0m\u001b[0;34m\u001b[0m\u001b[0m\n\u001b[1;32m   1170\u001b[0m                 \u001b[0mself\u001b[0m\u001b[0;34m.\u001b[0m\u001b[0m_iterator\u001b[0m \u001b[0;34m=\u001b[0m \u001b[0;32mNone\u001b[0m\u001b[0;34m\u001b[0m\u001b[0;34m\u001b[0m\u001b[0m\n",
            "\u001b[0;32m/usr/local/lib/python3.11/dist-packages/kafka/consumer/group.py\u001b[0m in \u001b[0;36m_message_generator_v2\u001b[0;34m(self)\u001b[0m\n\u001b[1;32m   1138\u001b[0m     \u001b[0;32mdef\u001b[0m \u001b[0m_message_generator_v2\u001b[0m\u001b[0;34m(\u001b[0m\u001b[0mself\u001b[0m\u001b[0;34m)\u001b[0m\u001b[0;34m:\u001b[0m\u001b[0;34m\u001b[0m\u001b[0;34m\u001b[0m\u001b[0m\n\u001b[1;32m   1139\u001b[0m         \u001b[0mtimeout_ms\u001b[0m \u001b[0;34m=\u001b[0m \u001b[0;36m1000\u001b[0m \u001b[0;34m*\u001b[0m \u001b[0mmax\u001b[0m\u001b[0;34m(\u001b[0m\u001b[0;36m0\u001b[0m\u001b[0;34m,\u001b[0m \u001b[0mself\u001b[0m\u001b[0;34m.\u001b[0m\u001b[0m_consumer_timeout\u001b[0m \u001b[0;34m-\u001b[0m \u001b[0mtime\u001b[0m\u001b[0;34m.\u001b[0m\u001b[0mtime\u001b[0m\u001b[0;34m(\u001b[0m\u001b[0;34m)\u001b[0m\u001b[0;34m)\u001b[0m\u001b[0;34m\u001b[0m\u001b[0;34m\u001b[0m\u001b[0m\n\u001b[0;32m-> 1140\u001b[0;31m         \u001b[0mrecord_map\u001b[0m \u001b[0;34m=\u001b[0m \u001b[0mself\u001b[0m\u001b[0;34m.\u001b[0m\u001b[0mpoll\u001b[0m\u001b[0;34m(\u001b[0m\u001b[0mtimeout_ms\u001b[0m\u001b[0;34m=\u001b[0m\u001b[0mtimeout_ms\u001b[0m\u001b[0;34m,\u001b[0m \u001b[0mupdate_offsets\u001b[0m\u001b[0;34m=\u001b[0m\u001b[0;32mFalse\u001b[0m\u001b[0;34m)\u001b[0m\u001b[0;34m\u001b[0m\u001b[0;34m\u001b[0m\u001b[0m\n\u001b[0m\u001b[1;32m   1141\u001b[0m         \u001b[0;32mfor\u001b[0m \u001b[0mtp\u001b[0m\u001b[0;34m,\u001b[0m \u001b[0mrecords\u001b[0m \u001b[0;32min\u001b[0m \u001b[0msix\u001b[0m\u001b[0;34m.\u001b[0m\u001b[0miteritems\u001b[0m\u001b[0;34m(\u001b[0m\u001b[0mrecord_map\u001b[0m\u001b[0;34m)\u001b[0m\u001b[0;34m:\u001b[0m\u001b[0;34m\u001b[0m\u001b[0;34m\u001b[0m\u001b[0m\n\u001b[1;32m   1142\u001b[0m             \u001b[0;31m# Generators are stateful, and it is possible that the tp / records\u001b[0m\u001b[0;34m\u001b[0m\u001b[0;34m\u001b[0m\u001b[0m\n",
            "\u001b[0;32m/usr/local/lib/python3.11/dist-packages/kafka/consumer/group.py\u001b[0m in \u001b[0;36mpoll\u001b[0;34m(self, timeout_ms, max_records, update_offsets)\u001b[0m\n\u001b[1;32m    677\u001b[0m         \u001b[0minner_timeout_ms\u001b[0m \u001b[0;34m=\u001b[0m \u001b[0mtimeout_ms_fn\u001b[0m\u001b[0;34m(\u001b[0m\u001b[0mtimeout_ms\u001b[0m\u001b[0;34m,\u001b[0m \u001b[0;32mNone\u001b[0m\u001b[0;34m)\u001b[0m\u001b[0;34m\u001b[0m\u001b[0;34m\u001b[0m\u001b[0m\n\u001b[1;32m    678\u001b[0m         \u001b[0;32mwhile\u001b[0m \u001b[0;32mnot\u001b[0m \u001b[0mself\u001b[0m\u001b[0;34m.\u001b[0m\u001b[0m_closed\u001b[0m\u001b[0;34m:\u001b[0m\u001b[0;34m\u001b[0m\u001b[0;34m\u001b[0m\u001b[0m\n\u001b[0;32m--> 679\u001b[0;31m             \u001b[0mrecords\u001b[0m \u001b[0;34m=\u001b[0m \u001b[0mself\u001b[0m\u001b[0;34m.\u001b[0m\u001b[0m_poll_once\u001b[0m\u001b[0;34m(\u001b[0m\u001b[0minner_timeout_ms\u001b[0m\u001b[0;34m(\u001b[0m\u001b[0;34m)\u001b[0m\u001b[0;34m,\u001b[0m \u001b[0mmax_records\u001b[0m\u001b[0;34m,\u001b[0m \u001b[0mupdate_offsets\u001b[0m\u001b[0;34m=\u001b[0m\u001b[0mupdate_offsets\u001b[0m\u001b[0;34m)\u001b[0m\u001b[0;34m\u001b[0m\u001b[0;34m\u001b[0m\u001b[0m\n\u001b[0m\u001b[1;32m    680\u001b[0m             \u001b[0;32mif\u001b[0m \u001b[0mrecords\u001b[0m\u001b[0;34m:\u001b[0m\u001b[0;34m\u001b[0m\u001b[0;34m\u001b[0m\u001b[0m\n\u001b[1;32m    681\u001b[0m                 \u001b[0;32mreturn\u001b[0m \u001b[0mrecords\u001b[0m\u001b[0;34m\u001b[0m\u001b[0;34m\u001b[0m\u001b[0m\n",
            "\u001b[0;32m/usr/local/lib/python3.11/dist-packages/kafka/consumer/group.py\u001b[0m in \u001b[0;36m_poll_once\u001b[0;34m(self, timeout_ms, max_records, update_offsets)\u001b[0m\n\u001b[1;32m    720\u001b[0m             \u001b[0;32mreturn\u001b[0m \u001b[0mrecords\u001b[0m\u001b[0;34m\u001b[0m\u001b[0;34m\u001b[0m\u001b[0m\n\u001b[1;32m    721\u001b[0m \u001b[0;34m\u001b[0m\u001b[0m\n\u001b[0;32m--> 722\u001b[0;31m         \u001b[0mself\u001b[0m\u001b[0;34m.\u001b[0m\u001b[0m_client\u001b[0m\u001b[0;34m.\u001b[0m\u001b[0mpoll\u001b[0m\u001b[0;34m(\u001b[0m\u001b[0mtimeout_ms\u001b[0m\u001b[0;34m=\u001b[0m\u001b[0minner_timeout_ms\u001b[0m\u001b[0;34m(\u001b[0m\u001b[0mself\u001b[0m\u001b[0;34m.\u001b[0m\u001b[0m_coordinator\u001b[0m\u001b[0;34m.\u001b[0m\u001b[0mtime_to_next_poll\u001b[0m\u001b[0;34m(\u001b[0m\u001b[0;34m)\u001b[0m \u001b[0;34m*\u001b[0m \u001b[0;36m1000\u001b[0m\u001b[0;34m)\u001b[0m\u001b[0;34m)\u001b[0m\u001b[0;34m\u001b[0m\u001b[0;34m\u001b[0m\u001b[0m\n\u001b[0m\u001b[1;32m    723\u001b[0m         \u001b[0;31m# after the long poll, we should check whether the group needs to rebalance\u001b[0m\u001b[0;34m\u001b[0m\u001b[0;34m\u001b[0m\u001b[0m\n\u001b[1;32m    724\u001b[0m         \u001b[0;31m# prior to returning data so that the group can stabilize faster\u001b[0m\u001b[0;34m\u001b[0m\u001b[0;34m\u001b[0m\u001b[0m\n",
            "\u001b[0;32m/usr/local/lib/python3.11/dist-packages/kafka/client_async.py\u001b[0m in \u001b[0;36mpoll\u001b[0;34m(self, timeout_ms, future)\u001b[0m\n\u001b[1;32m    681\u001b[0m                     \u001b[0mtimeout\u001b[0m \u001b[0;34m=\u001b[0m \u001b[0mmax\u001b[0m\u001b[0;34m(\u001b[0m\u001b[0;36m0\u001b[0m\u001b[0;34m,\u001b[0m \u001b[0mtimeout\u001b[0m\u001b[0;34m)\u001b[0m  \u001b[0;31m# avoid negative timeouts\u001b[0m\u001b[0;34m\u001b[0m\u001b[0;34m\u001b[0m\u001b[0m\n\u001b[1;32m    682\u001b[0m \u001b[0;34m\u001b[0m\u001b[0m\n\u001b[0;32m--> 683\u001b[0;31m                 \u001b[0mself\u001b[0m\u001b[0;34m.\u001b[0m\u001b[0m_poll\u001b[0m\u001b[0;34m(\u001b[0m\u001b[0mtimeout\u001b[0m \u001b[0;34m/\u001b[0m \u001b[0;36m1000\u001b[0m\u001b[0;34m)\u001b[0m\u001b[0;34m\u001b[0m\u001b[0;34m\u001b[0m\u001b[0m\n\u001b[0m\u001b[1;32m    684\u001b[0m \u001b[0;34m\u001b[0m\u001b[0m\n\u001b[1;32m    685\u001b[0m             \u001b[0;31m# called without the lock to avoid deadlock potential\u001b[0m\u001b[0;34m\u001b[0m\u001b[0;34m\u001b[0m\u001b[0m\n",
            "\u001b[0;32m/usr/local/lib/python3.11/dist-packages/kafka/client_async.py\u001b[0m in \u001b[0;36m_poll\u001b[0;34m(self, timeout)\u001b[0m\n\u001b[1;32m    724\u001b[0m \u001b[0;34m\u001b[0m\u001b[0m\n\u001b[1;32m    725\u001b[0m         \u001b[0mstart_select\u001b[0m \u001b[0;34m=\u001b[0m \u001b[0mtime\u001b[0m\u001b[0;34m.\u001b[0m\u001b[0mtime\u001b[0m\u001b[0;34m(\u001b[0m\u001b[0;34m)\u001b[0m\u001b[0;34m\u001b[0m\u001b[0;34m\u001b[0m\u001b[0m\n\u001b[0;32m--> 726\u001b[0;31m         \u001b[0mready\u001b[0m \u001b[0;34m=\u001b[0m \u001b[0mself\u001b[0m\u001b[0;34m.\u001b[0m\u001b[0m_selector\u001b[0m\u001b[0;34m.\u001b[0m\u001b[0mselect\u001b[0m\u001b[0;34m(\u001b[0m\u001b[0mtimeout\u001b[0m\u001b[0;34m)\u001b[0m\u001b[0;34m\u001b[0m\u001b[0;34m\u001b[0m\u001b[0m\n\u001b[0m\u001b[1;32m    727\u001b[0m         \u001b[0mend_select\u001b[0m \u001b[0;34m=\u001b[0m \u001b[0mtime\u001b[0m\u001b[0;34m.\u001b[0m\u001b[0mtime\u001b[0m\u001b[0;34m(\u001b[0m\u001b[0;34m)\u001b[0m\u001b[0;34m\u001b[0m\u001b[0;34m\u001b[0m\u001b[0m\n\u001b[1;32m    728\u001b[0m         \u001b[0;32mif\u001b[0m \u001b[0mself\u001b[0m\u001b[0;34m.\u001b[0m\u001b[0m_sensors\u001b[0m\u001b[0;34m:\u001b[0m\u001b[0;34m\u001b[0m\u001b[0;34m\u001b[0m\u001b[0m\n",
            "\u001b[0;32m/usr/lib/python3.11/selectors.py\u001b[0m in \u001b[0;36mselect\u001b[0;34m(self, timeout)\u001b[0m\n\u001b[1;32m    466\u001b[0m             \u001b[0mready\u001b[0m \u001b[0;34m=\u001b[0m \u001b[0;34m[\u001b[0m\u001b[0;34m]\u001b[0m\u001b[0;34m\u001b[0m\u001b[0;34m\u001b[0m\u001b[0m\n\u001b[1;32m    467\u001b[0m             \u001b[0;32mtry\u001b[0m\u001b[0;34m:\u001b[0m\u001b[0;34m\u001b[0m\u001b[0;34m\u001b[0m\u001b[0m\n\u001b[0;32m--> 468\u001b[0;31m                 \u001b[0mfd_event_list\u001b[0m \u001b[0;34m=\u001b[0m \u001b[0mself\u001b[0m\u001b[0;34m.\u001b[0m\u001b[0m_selector\u001b[0m\u001b[0;34m.\u001b[0m\u001b[0mpoll\u001b[0m\u001b[0;34m(\u001b[0m\u001b[0mtimeout\u001b[0m\u001b[0;34m,\u001b[0m \u001b[0mmax_ev\u001b[0m\u001b[0;34m)\u001b[0m\u001b[0;34m\u001b[0m\u001b[0;34m\u001b[0m\u001b[0m\n\u001b[0m\u001b[1;32m    469\u001b[0m             \u001b[0;32mexcept\u001b[0m \u001b[0mInterruptedError\u001b[0m\u001b[0;34m:\u001b[0m\u001b[0;34m\u001b[0m\u001b[0;34m\u001b[0m\u001b[0m\n\u001b[1;32m    470\u001b[0m                 \u001b[0;32mreturn\u001b[0m \u001b[0mready\u001b[0m\u001b[0;34m\u001b[0m\u001b[0;34m\u001b[0m\u001b[0m\n",
            "\u001b[0;31mKeyboardInterrupt\u001b[0m: "
          ]
        }
      ]
    },
    {
      "cell_type": "code",
      "source": [
        "# Остаточний результат — отримання відфільтрованих даних\n",
        "from kafka import KafkaConsumer\n",
        "import json\n",
        "\n",
        "alerts_consumer = KafkaConsumer(\n",
        "    \"chub_temperature_alerts\",\n",
        "    \"chub_humidity_alerts\",\n",
        "    bootstrap_servers='localhost:9092',\n",
        "    auto_offset_reset='earliest',\n",
        "    value_deserializer=lambda m: json.loads(m.decode('utf-8'))\n",
        ")\n",
        "\n",
        "for alert_msg in alerts_consumer:\n",
        "    alert = alert_msg.value\n",
        "    topic = alert_msg.topic\n",
        "    print(f\"🔔 ALERT from [{topic}]: {alert}\")\n"
      ],
      "metadata": {
        "colab": {
          "base_uri": "https://localhost:8080/",
          "height": 495
        },
        "id": "8rg_WIoXeLGc",
        "outputId": "f4f3af2a-7468-48fb-8196-1c3b2f04f305"
      },
      "execution_count": null,
      "outputs": [
        {
          "output_type": "stream",
          "name": "stderr",
          "text": [
            "WARNING:kafka.coordinator.consumer:group_id is None: disabling auto-commit.\n"
          ]
        },
        {
          "output_type": "stream",
          "name": "stdout",
          "text": [
            "🔔 ALERT from [chub_humidity_alerts]: {'sensor_id': 8887, 'timestamp': '2025-03-19 22:35:57', 'humidity': 83, 'message': '💧 Критична вологість: 83%!'}\n",
            "🔔 ALERT from [chub_humidity_alerts]: {'sensor_id': 8887, 'timestamp': '2025-03-19 22:36:09', 'humidity': 17, 'message': '💧 Критична вологість: 17%!'}\n",
            "🔔 ALERT from [chub_humidity_alerts]: {'sensor_id': 1735, 'timestamp': '2025-03-19 22:36:29', 'humidity': 18, 'message': '💧 Критична вологість: 18%!'}\n",
            "🔔 ALERT from [chub_temperature_alerts]: {'sensor_id': 8887, 'timestamp': '2025-03-19 22:36:11', 'temperature': 43, 'message': '🔥 Висока температура: 43°C!'}\n",
            "🔔 ALERT from [chub_temperature_alerts]: {'sensor_id': 1735, 'timestamp': '2025-03-19 22:36:17', 'temperature': 44, 'message': '🔥 Висока температура: 44°C!'}\n",
            "🔔 ALERT from [chub_temperature_alerts]: {'sensor_id': 1735, 'timestamp': '2025-03-19 22:36:23', 'temperature': 45, 'message': '🔥 Висока температура: 45°C!'}\n",
            "🔔 ALERT from [chub_temperature_alerts]: {'sensor_id': 1735, 'timestamp': '2025-03-19 22:36:25', 'temperature': 45, 'message': '🔥 Висока температура: 45°C!'}\n"
          ]
        },
        {
          "output_type": "error",
          "ename": "KeyboardInterrupt",
          "evalue": "",
          "traceback": [
            "\u001b[0;31m---------------------------------------------------------------------------\u001b[0m",
            "\u001b[0;31mKeyboardInterrupt\u001b[0m                         Traceback (most recent call last)",
            "\u001b[0;32m<ipython-input-9-3b6fea406000>\u001b[0m in \u001b[0;36m<cell line: 0>\u001b[0;34m()\u001b[0m\n\u001b[1;32m     11\u001b[0m )\n\u001b[1;32m     12\u001b[0m \u001b[0;34m\u001b[0m\u001b[0m\n\u001b[0;32m---> 13\u001b[0;31m \u001b[0;32mfor\u001b[0m \u001b[0malert_msg\u001b[0m \u001b[0;32min\u001b[0m \u001b[0malerts_consumer\u001b[0m\u001b[0;34m:\u001b[0m\u001b[0;34m\u001b[0m\u001b[0;34m\u001b[0m\u001b[0m\n\u001b[0m\u001b[1;32m     14\u001b[0m     \u001b[0malert\u001b[0m \u001b[0;34m=\u001b[0m \u001b[0malert_msg\u001b[0m\u001b[0;34m.\u001b[0m\u001b[0mvalue\u001b[0m\u001b[0;34m\u001b[0m\u001b[0;34m\u001b[0m\u001b[0m\n\u001b[1;32m     15\u001b[0m     \u001b[0mtopic\u001b[0m \u001b[0;34m=\u001b[0m \u001b[0malert_msg\u001b[0m\u001b[0;34m.\u001b[0m\u001b[0mtopic\u001b[0m\u001b[0;34m\u001b[0m\u001b[0;34m\u001b[0m\u001b[0m\n",
            "\u001b[0;32m/usr/local/lib/python3.11/dist-packages/kafka/consumer/group.py\u001b[0m in \u001b[0;36m__next__\u001b[0;34m(self)\u001b[0m\n\u001b[1;32m   1166\u001b[0m                 \u001b[0mself\u001b[0m\u001b[0;34m.\u001b[0m\u001b[0m_iterator\u001b[0m \u001b[0;34m=\u001b[0m \u001b[0mself\u001b[0m\u001b[0;34m.\u001b[0m\u001b[0m_message_generator_v2\u001b[0m\u001b[0;34m(\u001b[0m\u001b[0;34m)\u001b[0m\u001b[0;34m\u001b[0m\u001b[0;34m\u001b[0m\u001b[0m\n\u001b[1;32m   1167\u001b[0m             \u001b[0;32mtry\u001b[0m\u001b[0;34m:\u001b[0m\u001b[0;34m\u001b[0m\u001b[0;34m\u001b[0m\u001b[0m\n\u001b[0;32m-> 1168\u001b[0;31m                 \u001b[0;32mreturn\u001b[0m \u001b[0mnext\u001b[0m\u001b[0;34m(\u001b[0m\u001b[0mself\u001b[0m\u001b[0;34m.\u001b[0m\u001b[0m_iterator\u001b[0m\u001b[0;34m)\u001b[0m\u001b[0;34m\u001b[0m\u001b[0;34m\u001b[0m\u001b[0m\n\u001b[0m\u001b[1;32m   1169\u001b[0m             \u001b[0;32mexcept\u001b[0m \u001b[0mStopIteration\u001b[0m\u001b[0;34m:\u001b[0m\u001b[0;34m\u001b[0m\u001b[0;34m\u001b[0m\u001b[0m\n\u001b[1;32m   1170\u001b[0m                 \u001b[0mself\u001b[0m\u001b[0;34m.\u001b[0m\u001b[0m_iterator\u001b[0m \u001b[0;34m=\u001b[0m \u001b[0;32mNone\u001b[0m\u001b[0;34m\u001b[0m\u001b[0;34m\u001b[0m\u001b[0m\n",
            "\u001b[0;32m/usr/local/lib/python3.11/dist-packages/kafka/consumer/group.py\u001b[0m in \u001b[0;36m_message_generator_v2\u001b[0;34m(self)\u001b[0m\n\u001b[1;32m   1138\u001b[0m     \u001b[0;32mdef\u001b[0m \u001b[0m_message_generator_v2\u001b[0m\u001b[0;34m(\u001b[0m\u001b[0mself\u001b[0m\u001b[0;34m)\u001b[0m\u001b[0;34m:\u001b[0m\u001b[0;34m\u001b[0m\u001b[0;34m\u001b[0m\u001b[0m\n\u001b[1;32m   1139\u001b[0m         \u001b[0mtimeout_ms\u001b[0m \u001b[0;34m=\u001b[0m \u001b[0;36m1000\u001b[0m \u001b[0;34m*\u001b[0m \u001b[0mmax\u001b[0m\u001b[0;34m(\u001b[0m\u001b[0;36m0\u001b[0m\u001b[0;34m,\u001b[0m \u001b[0mself\u001b[0m\u001b[0;34m.\u001b[0m\u001b[0m_consumer_timeout\u001b[0m \u001b[0;34m-\u001b[0m \u001b[0mtime\u001b[0m\u001b[0;34m.\u001b[0m\u001b[0mtime\u001b[0m\u001b[0;34m(\u001b[0m\u001b[0;34m)\u001b[0m\u001b[0;34m)\u001b[0m\u001b[0;34m\u001b[0m\u001b[0;34m\u001b[0m\u001b[0m\n\u001b[0;32m-> 1140\u001b[0;31m         \u001b[0mrecord_map\u001b[0m \u001b[0;34m=\u001b[0m \u001b[0mself\u001b[0m\u001b[0;34m.\u001b[0m\u001b[0mpoll\u001b[0m\u001b[0;34m(\u001b[0m\u001b[0mtimeout_ms\u001b[0m\u001b[0;34m=\u001b[0m\u001b[0mtimeout_ms\u001b[0m\u001b[0;34m,\u001b[0m \u001b[0mupdate_offsets\u001b[0m\u001b[0;34m=\u001b[0m\u001b[0;32mFalse\u001b[0m\u001b[0;34m)\u001b[0m\u001b[0;34m\u001b[0m\u001b[0;34m\u001b[0m\u001b[0m\n\u001b[0m\u001b[1;32m   1141\u001b[0m         \u001b[0;32mfor\u001b[0m \u001b[0mtp\u001b[0m\u001b[0;34m,\u001b[0m \u001b[0mrecords\u001b[0m \u001b[0;32min\u001b[0m \u001b[0msix\u001b[0m\u001b[0;34m.\u001b[0m\u001b[0miteritems\u001b[0m\u001b[0;34m(\u001b[0m\u001b[0mrecord_map\u001b[0m\u001b[0;34m)\u001b[0m\u001b[0;34m:\u001b[0m\u001b[0;34m\u001b[0m\u001b[0;34m\u001b[0m\u001b[0m\n\u001b[1;32m   1142\u001b[0m             \u001b[0;31m# Generators are stateful, and it is possible that the tp / records\u001b[0m\u001b[0;34m\u001b[0m\u001b[0;34m\u001b[0m\u001b[0m\n",
            "\u001b[0;32m/usr/local/lib/python3.11/dist-packages/kafka/consumer/group.py\u001b[0m in \u001b[0;36mpoll\u001b[0;34m(self, timeout_ms, max_records, update_offsets)\u001b[0m\n\u001b[1;32m    677\u001b[0m         \u001b[0minner_timeout_ms\u001b[0m \u001b[0;34m=\u001b[0m \u001b[0mtimeout_ms_fn\u001b[0m\u001b[0;34m(\u001b[0m\u001b[0mtimeout_ms\u001b[0m\u001b[0;34m,\u001b[0m \u001b[0;32mNone\u001b[0m\u001b[0;34m)\u001b[0m\u001b[0;34m\u001b[0m\u001b[0;34m\u001b[0m\u001b[0m\n\u001b[1;32m    678\u001b[0m         \u001b[0;32mwhile\u001b[0m \u001b[0;32mnot\u001b[0m \u001b[0mself\u001b[0m\u001b[0;34m.\u001b[0m\u001b[0m_closed\u001b[0m\u001b[0;34m:\u001b[0m\u001b[0;34m\u001b[0m\u001b[0;34m\u001b[0m\u001b[0m\n\u001b[0;32m--> 679\u001b[0;31m             \u001b[0mrecords\u001b[0m \u001b[0;34m=\u001b[0m \u001b[0mself\u001b[0m\u001b[0;34m.\u001b[0m\u001b[0m_poll_once\u001b[0m\u001b[0;34m(\u001b[0m\u001b[0minner_timeout_ms\u001b[0m\u001b[0;34m(\u001b[0m\u001b[0;34m)\u001b[0m\u001b[0;34m,\u001b[0m \u001b[0mmax_records\u001b[0m\u001b[0;34m,\u001b[0m \u001b[0mupdate_offsets\u001b[0m\u001b[0;34m=\u001b[0m\u001b[0mupdate_offsets\u001b[0m\u001b[0;34m)\u001b[0m\u001b[0;34m\u001b[0m\u001b[0;34m\u001b[0m\u001b[0m\n\u001b[0m\u001b[1;32m    680\u001b[0m             \u001b[0;32mif\u001b[0m \u001b[0mrecords\u001b[0m\u001b[0;34m:\u001b[0m\u001b[0;34m\u001b[0m\u001b[0;34m\u001b[0m\u001b[0m\n\u001b[1;32m    681\u001b[0m                 \u001b[0;32mreturn\u001b[0m \u001b[0mrecords\u001b[0m\u001b[0;34m\u001b[0m\u001b[0;34m\u001b[0m\u001b[0m\n",
            "\u001b[0;32m/usr/local/lib/python3.11/dist-packages/kafka/consumer/group.py\u001b[0m in \u001b[0;36m_poll_once\u001b[0;34m(self, timeout_ms, max_records, update_offsets)\u001b[0m\n\u001b[1;32m    720\u001b[0m             \u001b[0;32mreturn\u001b[0m \u001b[0mrecords\u001b[0m\u001b[0;34m\u001b[0m\u001b[0;34m\u001b[0m\u001b[0m\n\u001b[1;32m    721\u001b[0m \u001b[0;34m\u001b[0m\u001b[0m\n\u001b[0;32m--> 722\u001b[0;31m         \u001b[0mself\u001b[0m\u001b[0;34m.\u001b[0m\u001b[0m_client\u001b[0m\u001b[0;34m.\u001b[0m\u001b[0mpoll\u001b[0m\u001b[0;34m(\u001b[0m\u001b[0mtimeout_ms\u001b[0m\u001b[0;34m=\u001b[0m\u001b[0minner_timeout_ms\u001b[0m\u001b[0;34m(\u001b[0m\u001b[0mself\u001b[0m\u001b[0;34m.\u001b[0m\u001b[0m_coordinator\u001b[0m\u001b[0;34m.\u001b[0m\u001b[0mtime_to_next_poll\u001b[0m\u001b[0;34m(\u001b[0m\u001b[0;34m)\u001b[0m \u001b[0;34m*\u001b[0m \u001b[0;36m1000\u001b[0m\u001b[0;34m)\u001b[0m\u001b[0;34m)\u001b[0m\u001b[0;34m\u001b[0m\u001b[0;34m\u001b[0m\u001b[0m\n\u001b[0m\u001b[1;32m    723\u001b[0m         \u001b[0;31m# after the long poll, we should check whether the group needs to rebalance\u001b[0m\u001b[0;34m\u001b[0m\u001b[0;34m\u001b[0m\u001b[0m\n\u001b[1;32m    724\u001b[0m         \u001b[0;31m# prior to returning data so that the group can stabilize faster\u001b[0m\u001b[0;34m\u001b[0m\u001b[0;34m\u001b[0m\u001b[0m\n",
            "\u001b[0;32m/usr/local/lib/python3.11/dist-packages/kafka/client_async.py\u001b[0m in \u001b[0;36mpoll\u001b[0;34m(self, timeout_ms, future)\u001b[0m\n\u001b[1;32m    681\u001b[0m                     \u001b[0mtimeout\u001b[0m \u001b[0;34m=\u001b[0m \u001b[0mmax\u001b[0m\u001b[0;34m(\u001b[0m\u001b[0;36m0\u001b[0m\u001b[0;34m,\u001b[0m \u001b[0mtimeout\u001b[0m\u001b[0;34m)\u001b[0m  \u001b[0;31m# avoid negative timeouts\u001b[0m\u001b[0;34m\u001b[0m\u001b[0;34m\u001b[0m\u001b[0m\n\u001b[1;32m    682\u001b[0m \u001b[0;34m\u001b[0m\u001b[0m\n\u001b[0;32m--> 683\u001b[0;31m                 \u001b[0mself\u001b[0m\u001b[0;34m.\u001b[0m\u001b[0m_poll\u001b[0m\u001b[0;34m(\u001b[0m\u001b[0mtimeout\u001b[0m \u001b[0;34m/\u001b[0m \u001b[0;36m1000\u001b[0m\u001b[0;34m)\u001b[0m\u001b[0;34m\u001b[0m\u001b[0;34m\u001b[0m\u001b[0m\n\u001b[0m\u001b[1;32m    684\u001b[0m \u001b[0;34m\u001b[0m\u001b[0m\n\u001b[1;32m    685\u001b[0m             \u001b[0;31m# called without the lock to avoid deadlock potential\u001b[0m\u001b[0;34m\u001b[0m\u001b[0;34m\u001b[0m\u001b[0m\n",
            "\u001b[0;32m/usr/local/lib/python3.11/dist-packages/kafka/client_async.py\u001b[0m in \u001b[0;36m_poll\u001b[0;34m(self, timeout)\u001b[0m\n\u001b[1;32m    724\u001b[0m \u001b[0;34m\u001b[0m\u001b[0m\n\u001b[1;32m    725\u001b[0m         \u001b[0mstart_select\u001b[0m \u001b[0;34m=\u001b[0m \u001b[0mtime\u001b[0m\u001b[0;34m.\u001b[0m\u001b[0mtime\u001b[0m\u001b[0;34m(\u001b[0m\u001b[0;34m)\u001b[0m\u001b[0;34m\u001b[0m\u001b[0;34m\u001b[0m\u001b[0m\n\u001b[0;32m--> 726\u001b[0;31m         \u001b[0mready\u001b[0m \u001b[0;34m=\u001b[0m \u001b[0mself\u001b[0m\u001b[0;34m.\u001b[0m\u001b[0m_selector\u001b[0m\u001b[0;34m.\u001b[0m\u001b[0mselect\u001b[0m\u001b[0;34m(\u001b[0m\u001b[0mtimeout\u001b[0m\u001b[0;34m)\u001b[0m\u001b[0;34m\u001b[0m\u001b[0;34m\u001b[0m\u001b[0m\n\u001b[0m\u001b[1;32m    727\u001b[0m         \u001b[0mend_select\u001b[0m \u001b[0;34m=\u001b[0m \u001b[0mtime\u001b[0m\u001b[0;34m.\u001b[0m\u001b[0mtime\u001b[0m\u001b[0;34m(\u001b[0m\u001b[0;34m)\u001b[0m\u001b[0;34m\u001b[0m\u001b[0;34m\u001b[0m\u001b[0m\n\u001b[1;32m    728\u001b[0m         \u001b[0;32mif\u001b[0m \u001b[0mself\u001b[0m\u001b[0;34m.\u001b[0m\u001b[0m_sensors\u001b[0m\u001b[0;34m:\u001b[0m\u001b[0;34m\u001b[0m\u001b[0;34m\u001b[0m\u001b[0m\n",
            "\u001b[0;32m/usr/lib/python3.11/selectors.py\u001b[0m in \u001b[0;36mselect\u001b[0;34m(self, timeout)\u001b[0m\n\u001b[1;32m    466\u001b[0m             \u001b[0mready\u001b[0m \u001b[0;34m=\u001b[0m \u001b[0;34m[\u001b[0m\u001b[0;34m]\u001b[0m\u001b[0;34m\u001b[0m\u001b[0;34m\u001b[0m\u001b[0m\n\u001b[1;32m    467\u001b[0m             \u001b[0;32mtry\u001b[0m\u001b[0;34m:\u001b[0m\u001b[0;34m\u001b[0m\u001b[0;34m\u001b[0m\u001b[0m\n\u001b[0;32m--> 468\u001b[0;31m                 \u001b[0mfd_event_list\u001b[0m \u001b[0;34m=\u001b[0m \u001b[0mself\u001b[0m\u001b[0;34m.\u001b[0m\u001b[0m_selector\u001b[0m\u001b[0;34m.\u001b[0m\u001b[0mpoll\u001b[0m\u001b[0;34m(\u001b[0m\u001b[0mtimeout\u001b[0m\u001b[0;34m,\u001b[0m \u001b[0mmax_ev\u001b[0m\u001b[0;34m)\u001b[0m\u001b[0;34m\u001b[0m\u001b[0;34m\u001b[0m\u001b[0m\n\u001b[0m\u001b[1;32m    469\u001b[0m             \u001b[0;32mexcept\u001b[0m \u001b[0mInterruptedError\u001b[0m\u001b[0;34m:\u001b[0m\u001b[0;34m\u001b[0m\u001b[0;34m\u001b[0m\u001b[0m\n\u001b[1;32m    470\u001b[0m                 \u001b[0;32mreturn\u001b[0m \u001b[0mready\u001b[0m\u001b[0;34m\u001b[0m\u001b[0;34m\u001b[0m\u001b[0m\n",
            "\u001b[0;31mKeyboardInterrupt\u001b[0m: "
          ]
        }
      ]
    }
  ]
}